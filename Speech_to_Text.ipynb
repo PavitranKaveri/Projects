{
 "cells": [
  {
   "cell_type": "markdown",
   "id": "03439002",
   "metadata": {},
   "source": [
    "Google search using Voice Recognition"
   ]
  },
  {
   "cell_type": "code",
   "execution_count": 2,
   "id": "bd30705a",
   "metadata": {},
   "outputs": [
    {
     "name": "stdout",
     "output_type": "stream",
     "text": [
      "['MacBook Pro Microphone', 'MacBook Pro Speakers']\n",
      "Start Speaking...\n",
      "Recognizing...\n",
      "what is the current time\n",
      "['current', 'time']\n",
      "https://www.timeanddate.com/worldclock/india\n",
      "https://www.timeanddate.com/worldclock/\n",
      "https://time.is/\n",
      "https://www.worldtimeserver.com/current_time_in_IN.aspx\n",
      "https://24timezones.com/India/time\n",
      "https://developer.mozilla.org/en-US/docs/Web/API/HTMLMediaElement/currentTime\n",
      "https://greenwichmeantime.com/current-time/\n",
      "https://www.time.gov/\n",
      "https://www.programiz.com/python-programming/datetime/current-time\n",
      "https://www.rapidtables.com/tools/current-time.html\n",
      "Here are the results for your query\n"
     ]
    }
   ],
   "source": [
    "import speech_recognition as sr\n",
    "from googlesearch import search\n",
    "from nltk.corpus import stopwords\n",
    "import string\n",
    "\n",
    "r = sr.Recognizer()\n",
    "\n",
    "print(sr.Microphone.list_microphone_names())\n",
    "print(\"Start Speaking...\")\n",
    "\n",
    "#Using Macbook microphone here\n",
    "mic = sr.Microphone(device_index=0)\n",
    "\n",
    "with mic as source:\n",
    "    # read the audio data from the default microphone\n",
    "    audio_data = r.record(source, duration=10)\n",
    "    print(\"Recognizing...\")\n",
    "    # convert speech to text\n",
    "    text = r.recognize_google(audio_data)\n",
    "    print(text)\n",
    "\n",
    "def text_process(mess):\n",
    "\n",
    "    # Check characters to see if they are in punctuation\n",
    "    nopunc = [char for char in mess if char not in string.punctuation]\n",
    "\n",
    "    # Join the characters again to form the string.\n",
    "    nopunc = ''.join(nopunc)\n",
    "    \n",
    "    # Now just remove any stopwords\n",
    "    clean_text=[word for word in nopunc.split() if word.lower() not in stopwords.words('english')]\n",
    "    print(clean_text)\n",
    "    #joining back to string again\n",
    "    processed_data=' '.join(clean_text)\n",
    "    return processed_data\n",
    "\n",
    "#Google search\n",
    "query = text_process(text)\n",
    "for i in search(query, tld=\"co.in\", num=10, stop=10, pause=2,safe='on'):\n",
    "    print(i)\n",
    "print(\"Here are the results for your query\")\n"
   ]
  },
  {
   "cell_type": "code",
   "execution_count": null,
   "id": "b02f4d25",
   "metadata": {},
   "outputs": [],
   "source": []
  }
 ],
 "metadata": {
  "kernelspec": {
   "display_name": "Python 3 (ipykernel)",
   "language": "python",
   "name": "python3"
  },
  "language_info": {
   "codemirror_mode": {
    "name": "ipython",
    "version": 3
   },
   "file_extension": ".py",
   "mimetype": "text/x-python",
   "name": "python",
   "nbconvert_exporter": "python",
   "pygments_lexer": "ipython3",
   "version": "3.9.7"
  }
 },
 "nbformat": 4,
 "nbformat_minor": 5
}
